{
  "nbformat": 4,
  "nbformat_minor": 0,
  "metadata": {
    "colab": {
      "provenance": [],
      "authorship_tag": "ABX9TyPMjz3A6zyT8B/gN4x013xU",
      "include_colab_link": true
    },
    "kernelspec": {
      "name": "python3",
      "display_name": "Python 3"
    },
    "language_info": {
      "name": "python"
    }
  },
  "cells": [
    {
      "cell_type": "markdown",
      "metadata": {
        "id": "view-in-github",
        "colab_type": "text"
      },
      "source": [
        "<a href=\"https://colab.research.google.com/github/ajeet966/Machinelearning/blob/main/MOVIES_GENERIC_PREDICATION.ipynb\" target=\"_parent\"><img src=\"https://colab.research.google.com/assets/colab-badge.svg\" alt=\"Open In Colab\"/></a>"
      ]
    },
    {
      "cell_type": "markdown",
      "source": [
        "# **MOVIES_GENERIC_PREDICATION**"
      ],
      "metadata": {
        "id": "A17QasbmxGlc"
      }
    },
    {
      "cell_type": "code",
      "source": [
        "import pandas as pd\n",
        "from sklearn.model_selection import train_test_split\n",
        "from sklearn.feature_extraction.text import TfidfVectorizer\n",
        "from sklearn.naive_bayes import MultinomialNB\n",
        "from sklearn.linear_model import LogisticRegression\n",
        "from sklearn.svm import SVC\n",
        "from sklearn.metrics import classification_report\n",
        "import joblib\n",
        "import matplotlib.pyplot as plt\n",
        "import seaborn as sns"
      ],
      "metadata": {
        "id": "DbGKQ7J1qDwp"
      },
      "execution_count": 19,
      "outputs": []
    },
    {
      "cell_type": "markdown",
      "source": [
        "# Load and Inspect Data"
      ],
      "metadata": {
        "id": "6ul69MdYxXPM"
      }
    },
    {
      "cell_type": "code",
      "source": [
        "\n",
        "data = pd.read_csv('/content/imdb_top_2000_movies.csv')\n",
        "print(data.head())"
      ],
      "metadata": {
        "id": "mERVFA2nqF1J",
        "outputId": "6c979a54-8e97-4e6c-8c55-414e1e72bb07",
        "colab": {
          "base_uri": "https://localhost:8080/"
        }
      },
      "execution_count": 20,
      "outputs": [
        {
          "output_type": "stream",
          "name": "stdout",
          "text": [
            "              Movie Name Release Year  Duration  IMDB Rating  Metascore  \\\n",
            "0          The Godfather         1972       175          9.2      100.0   \n",
            "1  The Godfather Part II         1974       202          9.0       90.0   \n",
            "2        Ordinary People         1980       124          7.7       86.0   \n",
            "3     Lawrence of Arabia         1962       218          8.3      100.0   \n",
            "4             Straw Dogs         1971       113          7.4       73.0   \n",
            "\n",
            "       Votes                        Genre              Director  \\\n",
            "0  2,002,655                 Crime, Drama  Francis Ford Coppola   \n",
            "1  1,358,608                 Crime, Drama  Francis Ford Coppola   \n",
            "2     56,476                        Drama        Robert Redford   \n",
            "3    313,044  Adventure, Biography, Drama            David Lean   \n",
            "4     64,331       Crime, Drama, Thriller         Sam Peckinpah   \n",
            "\n",
            "                Cast     Gross  \n",
            "0      Marlon Brando  $134.97M  \n",
            "1          Al Pacino   $57.30M  \n",
            "2  Donald Sutherland   $54.80M  \n",
            "3      Peter O'Toole   $44.82M  \n",
            "4     Dustin Hoffman       NaN  \n"
          ]
        }
      ]
    },
    {
      "cell_type": "code",
      "source": [
        "# Split the data into training and test sets\n",
        "X_train, X_test, y_train, y_test = train_test_split(X, y, test_size=0.2, random_state=42)"
      ],
      "metadata": {
        "id": "ZknbIBkjqTpq"
      },
      "execution_count": 21,
      "outputs": []
    },
    {
      "cell_type": "code",
      "source": [
        "# Check for NaN values in y_train and y_test\n",
        "print(\"NaN values in y_train:\", y_train.isna().sum())\n",
        "print(\"NaN values in y_test:\", y_test.isna().sum())"
      ],
      "metadata": {
        "id": "U5AteTjNqdS4",
        "outputId": "41649a04-5658-4cfa-bc23-8d54067254d8",
        "colab": {
          "base_uri": "https://localhost:8080/"
        }
      },
      "execution_count": 22,
      "outputs": [
        {
          "output_type": "stream",
          "name": "stdout",
          "text": [
            "NaN values in y_train: 62\n",
            "NaN values in y_test: 19\n"
          ]
        }
      ]
    },
    {
      "cell_type": "code",
      "source": [
        "# Remove rows with NaN values in y_train\n",
        "non_nan_train_indices = y_train.dropna().index\n",
        "X_train = X_train.loc[non_nan_train_indices]\n",
        "y_train = y_train.dropna()"
      ],
      "metadata": {
        "id": "p0xHEFvaqiYv"
      },
      "execution_count": 23,
      "outputs": []
    },
    {
      "cell_type": "code",
      "source": [
        "# Remove rows with NaN values in y_test\n",
        "non_nan_test_indices = y_test.dropna().index\n",
        "X_test = X_test.loc[non_nan_test_indices]\n",
        "y_test = y_test.dropna()"
      ],
      "metadata": {
        "id": "I0S0cqDwqkEY"
      },
      "execution_count": 24,
      "outputs": []
    },
    {
      "cell_type": "markdown",
      "source": [
        "# Transform Text Data using TF-IDF"
      ],
      "metadata": {
        "id": "U29qPwxrxe0n"
      }
    },
    {
      "cell_type": "code",
      "source": [
        "\n",
        "tfidf_vectorizer = TfidfVectorizer(stop_words='english', max_df=0.7)\n",
        "X_train_tfidf = tfidf_vectorizer.fit_transform(X_train)\n",
        "X_test_tfidf = tfidf_vectorizer.transform(X_test)"
      ],
      "metadata": {
        "id": "yC9V0Jc8qnaY"
      },
      "execution_count": 25,
      "outputs": []
    },
    {
      "cell_type": "markdown",
      "source": [
        "# Train and Evaluate Models"
      ],
      "metadata": {
        "id": "gKEpmfgsxmQM"
      }
    },
    {
      "cell_type": "code",
      "source": [
        "\n",
        "# Train and evaluate Naive Bayes classifier\n",
        "nb_classifier = MultinomialNB()\n",
        "nb_classifier.fit(X_train_tfidf, y_train)\n",
        "y_pred_nb = nb_classifier.predict(X_test_tfidf)\n",
        "print(\"Naive Bayes Classifier:\")\n",
        "print(classification_report(y_test, y_pred_nb))"
      ],
      "metadata": {
        "id": "VFyLgZlsqp8P",
        "outputId": "20dd0885-bb29-4fc6-ac0d-e6152b822616",
        "colab": {
          "base_uri": "https://localhost:8080/"
        }
      },
      "execution_count": 26,
      "outputs": [
        {
          "output_type": "stream",
          "name": "stdout",
          "text": [
            "Naive Bayes Classifier:\n",
            "              precision    recall  f1-score   support\n",
            "\n",
            "         9.0       0.00      0.00      0.00         1\n",
            "        11.0       0.00      0.00      0.00         1\n",
            "        12.0       0.00      0.00      0.00         1\n",
            "        14.0       0.00      0.00      0.00         1\n",
            "        17.0       0.00      0.00      0.00         1\n",
            "        25.0       0.00      0.00      0.00         1\n",
            "        26.0       0.00      0.00      0.00         1\n",
            "        27.0       0.00      0.00      0.00         3\n",
            "        29.0       0.00      0.00      0.00         2\n",
            "        30.0       0.00      0.00      0.00         1\n",
            "        32.0       0.00      0.00      0.00         4\n",
            "        33.0       0.00      0.00      0.00         4\n",
            "        34.0       0.00      0.00      0.00         3\n",
            "        35.0       0.00      0.00      0.00         5\n",
            "        36.0       0.00      0.00      0.00         5\n",
            "        37.0       0.00      0.00      0.00         1\n",
            "        38.0       0.00      0.00      0.00         6\n",
            "        39.0       0.00      0.00      0.00         3\n",
            "        40.0       0.00      0.00      0.00         7\n",
            "        41.0       0.00      0.00      0.00         5\n",
            "        42.0       0.00      0.00      0.00         4\n",
            "        43.0       0.00      0.00      0.00         4\n",
            "        44.0       0.00      0.00      0.00         8\n",
            "        45.0       0.00      0.00      0.00         8\n",
            "        46.0       0.11      0.20      0.14         5\n",
            "        47.0       0.03      0.12      0.05         8\n",
            "        48.0       0.00      0.00      0.00         8\n",
            "        49.0       0.00      0.00      0.00         8\n",
            "        50.0       0.00      0.00      0.00         8\n",
            "        51.0       0.00      0.00      0.00         7\n",
            "        52.0       0.00      0.00      0.00         9\n",
            "        53.0       0.00      0.00      0.00         9\n",
            "        54.0       0.00      0.00      0.00         2\n",
            "        55.0       0.00      0.00      0.00         6\n",
            "        56.0       0.00      0.00      0.00        14\n",
            "        57.0       0.00      0.00      0.00         9\n",
            "        58.0       0.02      0.12      0.03         8\n",
            "        59.0       0.00      0.00      0.00         4\n",
            "        60.0       0.00      0.00      0.00         4\n",
            "        61.0       0.00      0.00      0.00         6\n",
            "        62.0       0.12      0.33      0.17         6\n",
            "        63.0       0.00      0.00      0.00         9\n",
            "        64.0       0.01      0.25      0.02         4\n",
            "        65.0       0.08      0.11      0.10         9\n",
            "        66.0       0.00      0.00      0.00         9\n",
            "        67.0       0.00      0.00      0.00         2\n",
            "        68.0       0.00      0.00      0.00         6\n",
            "        69.0       0.00      0.00      0.00         7\n",
            "        70.0       0.00      0.00      0.00         6\n",
            "        71.0       0.00      0.00      0.00         8\n",
            "        72.0       0.00      0.00      0.00         8\n",
            "        73.0       0.00      0.00      0.00         9\n",
            "        74.0       0.00      0.00      0.00         8\n",
            "        75.0       0.00      0.00      0.00         3\n",
            "        76.0       0.00      0.00      0.00         8\n",
            "        77.0       0.00      0.00      0.00         1\n",
            "        78.0       0.00      0.00      0.00         7\n",
            "        79.0       0.00      0.00      0.00         4\n",
            "        80.0       0.00      0.00      0.00         5\n",
            "        81.0       0.00      0.00      0.00         5\n",
            "        82.0       0.00      0.00      0.00         7\n",
            "        83.0       0.14      0.20      0.17         5\n",
            "        84.0       0.00      0.00      0.00         5\n",
            "        85.0       0.00      0.00      0.00         4\n",
            "        86.0       0.00      0.00      0.00         7\n",
            "        87.0       0.00      0.00      0.00         4\n",
            "        88.0       0.00      0.00      0.00         1\n",
            "        90.0       0.00      0.00      0.00         7\n",
            "        91.0       0.00      0.00      0.00         2\n",
            "        92.0       0.00      0.00      0.00         5\n",
            "        93.0       0.00      0.00      0.00         2\n",
            "        94.0       0.00      0.00      0.00         3\n",
            "        95.0       0.00      0.00      0.00         3\n",
            "        96.0       0.00      0.00      0.00         3\n",
            "        97.0       0.00      0.00      0.00         2\n",
            "        98.0       0.00      0.00      0.00         1\n",
            "       100.0       0.00      0.00      0.00         1\n",
            "\n",
            "    accuracy                           0.02       381\n",
            "   macro avg       0.01      0.02      0.01       381\n",
            "weighted avg       0.01      0.02      0.01       381\n",
            "\n"
          ]
        },
        {
          "output_type": "stream",
          "name": "stderr",
          "text": [
            "/usr/local/lib/python3.10/dist-packages/sklearn/metrics/_classification.py:1471: UndefinedMetricWarning: Precision and F-score are ill-defined and being set to 0.0 in labels with no predicted samples. Use `zero_division` parameter to control this behavior.\n",
            "  _warn_prf(average, modifier, msg_start, len(result))\n",
            "/usr/local/lib/python3.10/dist-packages/sklearn/metrics/_classification.py:1471: UndefinedMetricWarning: Precision and F-score are ill-defined and being set to 0.0 in labels with no predicted samples. Use `zero_division` parameter to control this behavior.\n",
            "  _warn_prf(average, modifier, msg_start, len(result))\n",
            "/usr/local/lib/python3.10/dist-packages/sklearn/metrics/_classification.py:1471: UndefinedMetricWarning: Precision and F-score are ill-defined and being set to 0.0 in labels with no predicted samples. Use `zero_division` parameter to control this behavior.\n",
            "  _warn_prf(average, modifier, msg_start, len(result))\n"
          ]
        }
      ]
    },
    {
      "cell_type": "markdown",
      "source": [
        "#Train and evaluate Logistic Regression classifier"
      ],
      "metadata": {
        "id": "MxdNgC5BxqqD"
      }
    },
    {
      "cell_type": "code",
      "source": [
        "\n",
        "lr_classifier = LogisticRegression(max_iter=1000)\n",
        "lr_classifier.fit(X_train_tfidf, y_train)\n",
        "y_pred_lr = lr_classifier.predict(X_test_tfidf)\n",
        "print(\"Logistic Regression Classifier:\")\n",
        "print(classification_report(y_test, y_pred_lr))"
      ],
      "metadata": {
        "id": "WRad1JcMq7v3",
        "outputId": "99bd18c1-b99d-4615-cf5c-6aef4d92ba5f",
        "colab": {
          "base_uri": "https://localhost:8080/"
        }
      },
      "execution_count": 27,
      "outputs": [
        {
          "output_type": "stream",
          "name": "stdout",
          "text": [
            "Logistic Regression Classifier:\n",
            "              precision    recall  f1-score   support\n",
            "\n",
            "         9.0       0.00      0.00      0.00         1\n",
            "        11.0       0.00      0.00      0.00         1\n",
            "        12.0       0.00      0.00      0.00         1\n",
            "        14.0       0.00      0.00      0.00         1\n",
            "        17.0       0.00      0.00      0.00         1\n",
            "        25.0       0.00      0.00      0.00         1\n",
            "        26.0       0.00      0.00      0.00         1\n",
            "        27.0       0.00      0.00      0.00         3\n",
            "        29.0       0.00      0.00      0.00         2\n",
            "        30.0       0.00      0.00      0.00         1\n",
            "        32.0       0.00      0.00      0.00         4\n",
            "        33.0       0.00      0.00      0.00         4\n",
            "        34.0       0.00      0.00      0.00         3\n",
            "        35.0       0.00      0.00      0.00         5\n",
            "        36.0       0.00      0.00      0.00         5\n",
            "        37.0       0.00      0.00      0.00         1\n",
            "        38.0       0.07      0.17      0.10         6\n",
            "        39.0       0.00      0.00      0.00         3\n",
            "        40.0       0.00      0.00      0.00         7\n",
            "        41.0       0.00      0.00      0.00         5\n",
            "        42.0       0.00      0.00      0.00         4\n",
            "        43.0       0.00      0.00      0.00         4\n",
            "        44.0       0.00      0.00      0.00         8\n",
            "        45.0       0.00      0.00      0.00         8\n",
            "        46.0       0.11      0.20      0.14         5\n",
            "        47.0       0.00      0.00      0.00         8\n",
            "        48.0       0.00      0.00      0.00         8\n",
            "        49.0       0.00      0.00      0.00         8\n",
            "        50.0       0.00      0.00      0.00         8\n",
            "        51.0       0.00      0.00      0.00         7\n",
            "        52.0       0.05      0.22      0.08         9\n",
            "        53.0       0.00      0.00      0.00         9\n",
            "        54.0       0.00      0.00      0.00         2\n",
            "        55.0       0.00      0.00      0.00         6\n",
            "        56.0       0.07      0.07      0.07        14\n",
            "        57.0       0.00      0.00      0.00         9\n",
            "        58.0       0.03      0.12      0.04         8\n",
            "        59.0       0.00      0.00      0.00         4\n",
            "        60.0       0.00      0.00      0.00         4\n",
            "        61.0       0.00      0.00      0.00         6\n",
            "        62.0       0.12      0.33      0.17         6\n",
            "        63.0       0.00      0.00      0.00         9\n",
            "        64.0       0.00      0.00      0.00         4\n",
            "        65.0       0.04      0.11      0.06         9\n",
            "        66.0       0.00      0.00      0.00         9\n",
            "        67.0       0.00      0.00      0.00         2\n",
            "        68.0       0.00      0.00      0.00         6\n",
            "        69.0       0.00      0.00      0.00         7\n",
            "        70.0       0.00      0.00      0.00         6\n",
            "        71.0       0.00      0.00      0.00         8\n",
            "        72.0       0.00      0.00      0.00         8\n",
            "        73.0       0.00      0.00      0.00         9\n",
            "        74.0       0.00      0.00      0.00         8\n",
            "        75.0       0.12      0.33      0.18         3\n",
            "        76.0       0.00      0.00      0.00         8\n",
            "        77.0       0.00      0.00      0.00         1\n",
            "        78.0       0.00      0.00      0.00         7\n",
            "        79.0       0.00      0.00      0.00         4\n",
            "        80.0       0.00      0.00      0.00         5\n",
            "        81.0       0.00      0.00      0.00         5\n",
            "        82.0       0.00      0.00      0.00         7\n",
            "        83.0       0.14      0.20      0.17         5\n",
            "        84.0       0.00      0.00      0.00         5\n",
            "        85.0       0.00      0.00      0.00         4\n",
            "        86.0       0.00      0.00      0.00         7\n",
            "        87.0       0.00      0.00      0.00         4\n",
            "        88.0       0.00      0.00      0.00         1\n",
            "        90.0       0.00      0.00      0.00         7\n",
            "        91.0       0.00      0.00      0.00         2\n",
            "        92.0       0.00      0.00      0.00         5\n",
            "        93.0       0.00      0.00      0.00         2\n",
            "        94.0       0.00      0.00      0.00         3\n",
            "        95.0       0.00      0.00      0.00         3\n",
            "        96.0       0.00      0.00      0.00         3\n",
            "        97.0       0.00      0.00      0.00         2\n",
            "        98.0       0.00      0.00      0.00         1\n",
            "       100.0       0.00      0.00      0.00         1\n",
            "\n",
            "    accuracy                           0.03       381\n",
            "   macro avg       0.01      0.02      0.01       381\n",
            "weighted avg       0.01      0.03      0.02       381\n",
            "\n"
          ]
        },
        {
          "output_type": "stream",
          "name": "stderr",
          "text": [
            "/usr/local/lib/python3.10/dist-packages/sklearn/metrics/_classification.py:1471: UndefinedMetricWarning: Precision and F-score are ill-defined and being set to 0.0 in labels with no predicted samples. Use `zero_division` parameter to control this behavior.\n",
            "  _warn_prf(average, modifier, msg_start, len(result))\n",
            "/usr/local/lib/python3.10/dist-packages/sklearn/metrics/_classification.py:1471: UndefinedMetricWarning: Precision and F-score are ill-defined and being set to 0.0 in labels with no predicted samples. Use `zero_division` parameter to control this behavior.\n",
            "  _warn_prf(average, modifier, msg_start, len(result))\n",
            "/usr/local/lib/python3.10/dist-packages/sklearn/metrics/_classification.py:1471: UndefinedMetricWarning: Precision and F-score are ill-defined and being set to 0.0 in labels with no predicted samples. Use `zero_division` parameter to control this behavior.\n",
            "  _warn_prf(average, modifier, msg_start, len(result))\n"
          ]
        }
      ]
    },
    {
      "cell_type": "markdown",
      "source": [
        "# Train and evaluate SVM classifier"
      ],
      "metadata": {
        "id": "C1QmkPeXxvY5"
      }
    },
    {
      "cell_type": "code",
      "source": [
        "\n",
        "svm_classifier = SVC(kernel='linear')\n",
        "svm_classifier.fit(X_train_tfidf, y_train)\n",
        "y_pred_svm = svm_classifier.predict(X_test_tfidf)\n",
        "print(\"Support Vector Machine Classifier:\")\n",
        "print(classification_report(y_test, y_pred_svm))"
      ],
      "metadata": {
        "id": "9dC1ADhXq7iB",
        "outputId": "ae4b477f-6772-47ca-9314-4bdbecca2dda",
        "colab": {
          "base_uri": "https://localhost:8080/"
        }
      },
      "execution_count": 28,
      "outputs": [
        {
          "output_type": "stream",
          "name": "stdout",
          "text": [
            "Support Vector Machine Classifier:\n",
            "              precision    recall  f1-score   support\n",
            "\n",
            "         9.0       0.00      0.00      0.00         1\n",
            "        11.0       0.00      0.00      0.00         1\n",
            "        12.0       0.00      0.00      0.00         1\n",
            "        14.0       0.00      0.00      0.00         1\n",
            "        17.0       0.00      0.00      0.00         1\n",
            "        25.0       0.00      0.00      0.00         1\n",
            "        26.0       0.00      0.00      0.00         1\n",
            "        27.0       0.00      0.00      0.00         3\n",
            "        29.0       0.00      0.00      0.00         2\n",
            "        30.0       0.00      0.00      0.00         1\n",
            "        32.0       0.00      0.00      0.00         4\n",
            "        33.0       0.00      0.00      0.00         4\n",
            "        34.0       0.00      0.00      0.00         3\n",
            "        35.0       0.00      0.00      0.00         5\n",
            "        36.0       0.00      0.00      0.00         5\n",
            "        37.0       0.00      0.00      0.00         1\n",
            "        38.0       0.07      0.17      0.10         6\n",
            "        39.0       0.00      0.00      0.00         3\n",
            "        40.0       0.00      0.00      0.00         7\n",
            "        41.0       0.00      0.00      0.00         5\n",
            "        42.0       0.00      0.00      0.00         4\n",
            "        43.0       0.00      0.00      0.00         4\n",
            "        44.0       0.00      0.00      0.00         8\n",
            "        45.0       0.00      0.00      0.00         8\n",
            "        46.0       0.11      0.20      0.14         5\n",
            "        47.0       0.00      0.00      0.00         8\n",
            "        48.0       0.00      0.00      0.00         8\n",
            "        49.0       0.00      0.00      0.00         8\n",
            "        50.0       0.00      0.00      0.00         8\n",
            "        51.0       0.00      0.00      0.00         7\n",
            "        52.0       0.05      0.22      0.08         9\n",
            "        53.0       0.00      0.00      0.00         9\n",
            "        54.0       0.00      0.00      0.00         2\n",
            "        55.0       0.00      0.00      0.00         6\n",
            "        56.0       0.05      0.07      0.06        14\n",
            "        57.0       0.00      0.00      0.00         9\n",
            "        58.0       0.03      0.12      0.05         8\n",
            "        59.0       0.00      0.00      0.00         4\n",
            "        60.0       0.00      0.00      0.00         4\n",
            "        61.0       0.00      0.00      0.00         6\n",
            "        62.0       0.17      0.33      0.22         6\n",
            "        63.0       0.00      0.00      0.00         9\n",
            "        64.0       0.00      0.00      0.00         4\n",
            "        65.0       0.04      0.11      0.06         9\n",
            "        66.0       0.00      0.00      0.00         9\n",
            "        67.0       0.00      0.00      0.00         2\n",
            "        68.0       0.00      0.00      0.00         6\n",
            "        69.0       0.00      0.00      0.00         7\n",
            "        70.0       0.00      0.00      0.00         6\n",
            "        71.0       0.00      0.00      0.00         8\n",
            "        72.0       0.00      0.00      0.00         8\n",
            "        73.0       0.00      0.00      0.00         9\n",
            "        74.0       0.00      0.00      0.00         8\n",
            "        75.0       0.12      0.33      0.18         3\n",
            "        76.0       0.00      0.00      0.00         8\n",
            "        77.0       0.00      0.00      0.00         1\n",
            "        78.0       0.00      0.00      0.00         7\n",
            "        79.0       0.00      0.00      0.00         4\n",
            "        80.0       0.00      0.00      0.00         5\n",
            "        81.0       0.00      0.00      0.00         5\n",
            "        82.0       0.00      0.00      0.00         7\n",
            "        83.0       0.14      0.20      0.17         5\n",
            "        84.0       0.00      0.00      0.00         5\n",
            "        85.0       0.00      0.00      0.00         4\n",
            "        86.0       0.00      0.00      0.00         7\n",
            "        87.0       0.00      0.00      0.00         4\n",
            "        88.0       0.00      0.00      0.00         1\n",
            "        89.0       0.00      0.00      0.00         0\n",
            "        90.0       0.00      0.00      0.00         7\n",
            "        91.0       0.00      0.00      0.00         2\n",
            "        92.0       0.00      0.00      0.00         5\n",
            "        93.0       0.00      0.00      0.00         2\n",
            "        94.0       0.00      0.00      0.00         3\n",
            "        95.0       0.00      0.00      0.00         3\n",
            "        96.0       0.00      0.00      0.00         3\n",
            "        97.0       0.00      0.00      0.00         2\n",
            "        98.0       0.50      1.00      0.67         1\n",
            "       100.0       0.00      0.00      0.00         1\n",
            "\n",
            "    accuracy                           0.03       381\n",
            "   macro avg       0.02      0.04      0.02       381\n",
            "weighted avg       0.01      0.03      0.02       381\n",
            "\n"
          ]
        },
        {
          "output_type": "stream",
          "name": "stderr",
          "text": [
            "/usr/local/lib/python3.10/dist-packages/sklearn/metrics/_classification.py:1471: UndefinedMetricWarning: Precision and F-score are ill-defined and being set to 0.0 in labels with no predicted samples. Use `zero_division` parameter to control this behavior.\n",
            "  _warn_prf(average, modifier, msg_start, len(result))\n",
            "/usr/local/lib/python3.10/dist-packages/sklearn/metrics/_classification.py:1471: UndefinedMetricWarning: Recall and F-score are ill-defined and being set to 0.0 in labels with no true samples. Use `zero_division` parameter to control this behavior.\n",
            "  _warn_prf(average, modifier, msg_start, len(result))\n",
            "/usr/local/lib/python3.10/dist-packages/sklearn/metrics/_classification.py:1471: UndefinedMetricWarning: Precision and F-score are ill-defined and being set to 0.0 in labels with no predicted samples. Use `zero_division` parameter to control this behavior.\n",
            "  _warn_prf(average, modifier, msg_start, len(result))\n",
            "/usr/local/lib/python3.10/dist-packages/sklearn/metrics/_classification.py:1471: UndefinedMetricWarning: Recall and F-score are ill-defined and being set to 0.0 in labels with no true samples. Use `zero_division` parameter to control this behavior.\n",
            "  _warn_prf(average, modifier, msg_start, len(result))\n",
            "/usr/local/lib/python3.10/dist-packages/sklearn/metrics/_classification.py:1471: UndefinedMetricWarning: Precision and F-score are ill-defined and being set to 0.0 in labels with no predicted samples. Use `zero_division` parameter to control this behavior.\n",
            "  _warn_prf(average, modifier, msg_start, len(result))\n",
            "/usr/local/lib/python3.10/dist-packages/sklearn/metrics/_classification.py:1471: UndefinedMetricWarning: Recall and F-score are ill-defined and being set to 0.0 in labels with no true samples. Use `zero_division` parameter to control this behavior.\n",
            "  _warn_prf(average, modifier, msg_start, len(result))\n"
          ]
        }
      ]
    },
    {
      "cell_type": "markdown",
      "source": [
        "# Step 5: Save the Best Model and Vectorizer"
      ],
      "metadata": {
        "id": "RuvZP73qxzsa"
      }
    },
    {
      "cell_type": "code",
      "source": [
        "\n",
        "best_model = svm_classifier\n",
        "joblib.dump(best_model, 'movie_genre_predictor.pkl')\n",
        "joblib.dump(tfidf_vectorizer, 'tfidf_vectorizer.pkl')"
      ],
      "metadata": {
        "id": "VvTUDITbq_a9",
        "outputId": "ca7b7efd-d228-49ff-db4c-8c4fabdc22d0",
        "colab": {
          "base_uri": "https://localhost:8080/"
        }
      },
      "execution_count": 29,
      "outputs": [
        {
          "output_type": "execute_result",
          "data": {
            "text/plain": [
              "['tfidf_vectorizer.pkl']"
            ]
          },
          "metadata": {},
          "execution_count": 29
        }
      ]
    },
    {
      "cell_type": "markdown",
      "source": [
        "# Plot Actual vs Predicted Genres"
      ],
      "metadata": {
        "id": "jp50ZAiwx2Ao"
      }
    },
    {
      "cell_type": "code",
      "source": [
        "\n",
        "plt.figure(figsize=(10, 6))\n",
        "sns.scatterplot(x=y_test.index, y=y_test, label='Actual Genre')\n",
        "sns.scatterplot(x=y_test.index, y=y_pred_svm, label='Predicted Genre (SVM)')\n",
        "plt.title('Actual vs Predicted Movie Genres (SVM)')\n",
        "plt.xlabel('Index')\n",
        "plt.ylabel('Genre')\n",
        "plt.legend()\n",
        "plt.show()"
      ],
      "metadata": {
        "id": "pzs6Sfx8q_T4",
        "outputId": "3cc5ced4-5ea1-4cdc-9179-9a66495c6b14",
        "colab": {
          "base_uri": "https://localhost:8080/",
          "height": 564
        }
      },
      "execution_count": 30,
      "outputs": [
        {
          "output_type": "display_data",
          "data": {
            "text/plain": [
              "<Figure size 1000x600 with 1 Axes>"
            ],
            "image/png": "[encoded data removed]"
          },
          "metadata": {}
        }
      ]
    },
    {
      "cell_type": "code",
      "source": [
        "# Load the saved model and vectorizer\n",
        "loaded_model = joblib.load('movie_genre_predictor.pkl')\n",
        "loaded_vectorizer = joblib.load('tfidf_vectorizer.pkl')\n",
        "\n",
        "# Predict the genre for a new plot summary\n",
        "new_plot = [\"A young boy discovers he has magical powers and attends a school for wizards.\"]\n",
        "new_plot_tfidf = loaded_vectorizer.transform(new_plot)\n",
        "predicted_genre = loaded_model.predict(new_plot_tfidf)\n",
        "\n",
        "print(f\"Predicted Genre: {predicted_genre[0]}\")\n"
      ],
      "metadata": {
        "id": "S_MbdDSTUbkF",
        "colab": {
          "base_uri": "https://localhost:8080/"
        },
        "outputId": "878e6afe-3b6e-4d8a-fed1-1ba18f6097a5"
      },
      "execution_count": 31,
      "outputs": [
        {
          "output_type": "stream",
          "name": "stdout",
          "text": [
            "Predicted Genre: 73.0\n"
          ]
        }
      ]
    }
  ]
}