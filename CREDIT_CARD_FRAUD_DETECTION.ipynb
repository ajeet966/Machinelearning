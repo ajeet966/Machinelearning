{
  "nbformat": 4,
  "nbformat_minor": 0,
  "metadata": {
    "colab": {
      "provenance": [],
      "toc_visible": true,
      "authorship_tag": "ABX9TyPJz98pXOSg/I5qm6tdE0Xg",
      "include_colab_link": true
    },
    "kernelspec": {
      "name": "python3",
      "display_name": "Python 3"
    },
    "language_info": {
      "name": "python"
    }
  },
  "cells": [
    {
      "cell_type": "markdown",
      "metadata": {
        "id": "view-in-github",
        "colab_type": "text"
      },
      "source": [
        "<a href=\"https://colab.research.google.com/github/ajeet966/Machinelearning/blob/main/CREDIT_CARD_FRAUD_DETECTION.ipynb\" target=\"_parent\"><img src=\"https://colab.research.google.com/assets/colab-badge.svg\" alt=\"Open In Colab\"/></a>"
      ]
    },
    {
      "cell_type": "code",
      "source": [
        "import pandas as pd\n",
        "from sklearn.model_selection import train_test_split\n",
        "from sklearn.preprocessing import StandardScaler, OneHotEncoder\n",
        "from sklearn.compose import ColumnTransformer\n",
        "from sklearn.pipeline import Pipeline\n",
        "from sklearn.linear_model import LogisticRegression\n",
        "from sklearn.metrics import classification_report, confusion_matrix, roc_auc_score\n",
        "\n",
        "# Load dataset (adjust the path accordingly)\n",
        "df = pd.read_csv('/content/fraudTrain.csv', on_bad_lines='warn')\n",
        "\n",
        "# Drop rows with NaNs in the target variable (is_fraud)\n",
        "df = df.dropna(subset=['is_fraud'])\n",
        "\n",
        "# Select features and target variable\n",
        "X = df.drop(['is_fraud'], axis=1)  # Features (drop target variable)\n",
        "y = df['is_fraud']  # Target variable\n",
        "\n",
        "# Split data into train and test sets\n",
        "X_train, X_test, y_train, y_test = train_test_split(X, y, test_size=0.2, random_state=42)\n",
        "\n",
        "# Define categorical and numerical features\n",
        "categorical_features = ['state', 'gender']  # Categorical columns\n",
        "numeric_features = ['amt', 'city_pop']  # Numerical columns\n",
        "\n",
        "# Preprocessing pipeline using ColumnTransformer and Pipeline\n",
        "preprocessor = ColumnTransformer(\n",
        "    transformers=[\n",
        "        ('num', StandardScaler(), numeric_features),  # Scale numerical features\n",
        "        ('cat', OneHotEncoder(), categorical_features)  # One-hot encode categorical features\n",
        "    ])\n",
        "\n",
        "# Logistic Regression model\n",
        "lr_classifier = LogisticRegression(random_state=42)\n",
        "\n",
        "# Create a pipeline with preprocessing and model\n",
        "pipeline = Pipeline(steps=[('preprocessor', preprocessor),\n",
        "                           ('classifier', lr_classifier)])\n",
        "\n",
        "# Train the model\n",
        "pipeline.fit(X_train, y_train)\n",
        "\n",
        "# Evaluate the model\n",
        "y_pred = pipeline.predict(X_test)\n",
        "\n",
        "# Example metrics (you can adjust as needed)\n",
        "print(\"Classification Report:\")\n",
        "print(classification_report(y_test, y_pred))\n",
        "\n",
        "print(\"Confusion Matrix:\")\n",
        "print(confusion_matrix(y_test, y_pred))\n",
        "\n",
        "# ROC AUC score is useful for evaluating binary classification models\n",
        "print(\"ROC AUC Score:\", roc_auc_score(y_test, y_pred))\n"
      ],
      "metadata": {
        "colab": {
          "base_uri": "https://localhost:8080/"
        },
        "id": "dmnAXjHJ8VNE",
        "outputId": "14c1e1d2-fbde-470f-a31e-aaac9e90560d"
      },
      "execution_count": null,
      "outputs": [
        {
          "output_type": "stream",
          "name": "stderr",
          "text": [
            "Skipping line 15611: expected 23 fields, saw 32\n",
            "\n",
            "/usr/local/lib/python3.10/dist-packages/sklearn/linear_model/_logistic.py:458: ConvergenceWarning: lbfgs failed to converge (status=1):\n",
            "STOP: TOTAL NO. of ITERATIONS REACHED LIMIT.\n",
            "\n",
            "Increase the number of iterations (max_iter) or scale the data as shown in:\n",
            "    https://scikit-learn.org/stable/modules/preprocessing.html\n",
            "Please also refer to the documentation for alternative solver options:\n",
            "    https://scikit-learn.org/stable/modules/linear_model.html#logistic-regression\n",
            "  n_iter_i = _check_optimize_result(\n"
          ]
        },
        {
          "output_type": "stream",
          "name": "stdout",
          "text": [
            "Classification Report:\n",
            "              precision    recall  f1-score   support\n",
            "\n",
            "         0.0       0.99      1.00      1.00    259400\n",
            "         1.0       0.00      0.00      0.00      1494\n",
            "\n",
            "    accuracy                           0.99    260894\n",
            "   macro avg       0.50      0.50      0.50    260894\n",
            "weighted avg       0.99      0.99      0.99    260894\n",
            "\n",
            "Confusion Matrix:\n",
            "[[259235    165]\n",
            " [  1494      0]]\n",
            "ROC AUC Score: 0.49968195836545876\n"
          ]
        }
      ]
    },
    {
      "cell_type": "code",
      "source": [
        "import pandas as pd\n",
        "from sklearn.model_selection import train_test_split\n",
        "from sklearn.preprocessing import OneHotEncoder\n",
        "from sklearn.compose import ColumnTransformer\n",
        "from sklearn.pipeline import Pipeline\n",
        "from sklearn.tree import DecisionTreeClassifier\n",
        "from sklearn.metrics import classification_report, confusion_matrix, accuracy_score\n",
        "\n",
        "# Load dataset (adjust the path accordingly)\n",
        "df = pd.read_csv('/content/fraudTrain.csv', on_bad_lines='warn')\n",
        "\n",
        "# Drop rows with NaNs in the target variable (is_fraud)\n",
        "df = df.dropna(subset=['is_fraud'])\n",
        "\n",
        "# Select features and target variable\n",
        "X = df.drop(['is_fraud'], axis=1)  # Features (drop target variable)\n",
        "y = df['is_fraud']  # Target variable\n",
        "\n",
        "# Split data into train and test sets\n",
        "X_train, X_test, y_train, y_test = train_test_split(X, y, test_size=0.2, random_state=42)\n",
        "\n",
        "# Define categorical features (numeric features are not scaled for Decision Trees)\n",
        "categorical_features = ['state', 'gender']  # Update with your categorical columns\n",
        "\n",
        "# Preprocessing pipeline for categorical features\n",
        "preprocessor = ColumnTransformer(\n",
        "    transformers=[\n",
        "        ('cat', OneHotEncoder(), categorical_features)  # One-hot encode categorical features\n",
        "    ])\n",
        "\n",
        "# Decision Tree Classifier model\n",
        "dt_classifier = DecisionTreeClassifier(random_state=42)\n",
        "\n",
        "# Create a pipeline with preprocessing and model\n",
        "pipeline = Pipeline(steps=[('preprocessor', preprocessor),\n",
        "                           ('classifier', dt_classifier)])\n",
        "\n",
        "# Train the model\n",
        "pipeline.fit(X_train, y_train)\n",
        "\n",
        "# Evaluate the model\n",
        "y_pred = pipeline.predict(X_test)\n",
        "\n",
        "# Example metrics (you can adjust as needed)\n",
        "print(\"Classification Report:\")\n",
        "print(classification_report(y_test, y_pred))\n",
        "\n",
        "print(\"Confusion Matrix:\")\n",
        "print(confusion_matrix(y_test, y_pred))\n",
        "\n",
        "print(\"Accuracy:\", accuracy_score(y_test, y_pred))\n"
      ],
      "metadata": {
        "colab": {
          "base_uri": "https://localhost:8080/"
        },
        "id": "wcqBr_oY-68j",
        "outputId": "e35b69dd-979a-48a9-8db3-08c6e75aaa5c"
      },
      "execution_count": null,
      "outputs": [
        {
          "output_type": "stream",
          "name": "stderr",
          "text": [
            "Skipping line 15611: expected 23 fields, saw 32\n",
            "\n"
          ]
        },
        {
          "output_type": "stream",
          "name": "stdout",
          "text": [
            "Classification Report:\n",
            "              precision    recall  f1-score   support\n",
            "\n",
            "         0.0       0.99      1.00      1.00    259400\n",
            "         1.0       1.00      0.00      0.01      1494\n",
            "\n",
            "    accuracy                           0.99    260894\n",
            "   macro avg       1.00      0.50      0.50    260894\n",
            "weighted avg       0.99      0.99      0.99    260894\n",
            "\n",
            "Confusion Matrix:\n",
            "[[259400      0]\n",
            " [  1489      5]]\n",
            "Accuracy: 0.9942927012503162\n"
          ]
        }
      ]
    }
  ]
}